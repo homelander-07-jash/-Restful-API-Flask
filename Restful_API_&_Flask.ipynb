{
  "nbformat": 4,
  "nbformat_minor": 0,
  "metadata": {
    "colab": {
      "provenance": []
    },
    "kernelspec": {
      "name": "python3",
      "display_name": "Python 3"
    },
    "language_info": {
      "name": "python"
    }
  },
  "cells": [
    {
      "cell_type": "markdown",
      "source": [
        "# Restful API & Flask\n",
        "\n",
        "1.  What is a RESTful API ?\n",
        "\n",
        "- A RESTful API follows REST (Representational State Transfer) principles and uses standard HTTP methods to perform CRUD operations on resources, typically using URLs and returning data in JSON format.\n",
        "\n",
        "2.  Explain the concept of API specification.\n",
        "\n",
        "- An API specification is a formal document that defines the endpoints, request/response formats, authentication methods, and error codes of an API. Examples include OpenAPI (Swagger).\n",
        "\n",
        "3.  What is Flask, and why is it popular for building APIs ?\n",
        "\n",
        "- Flask is a lightweight Python web framework. It's popular for APIs due to its simplicity, flexibility, and large ecosystem of extensions.\n",
        "\n",
        "\n",
        "4. What is routing in Flask ?\n",
        "\n",
        "- Routing in Flask maps URL paths to Python functions (view functions) using the @app.route() decorator.\n",
        "\n",
        "\n",
        "5. How do you create a simple Flask application ?"
      ],
      "metadata": {
        "id": "HAlMgRgEDCDF"
      }
    },
    {
      "cell_type": "code",
      "source": [
        "from flask import Flask\n",
        "app = Flask(__name__)\n",
        "\n",
        "@app.route('/')\n",
        "def hello():\n",
        "    return 'Hello, World!'\n",
        "\n",
        "if __name__ == '__main__':\n",
        "    app.run()\n"
      ],
      "metadata": {
        "colab": {
          "base_uri": "https://localhost:8080/"
        },
        "id": "OBuAtaduEEhE",
        "outputId": "ee51e315-cb0b-4c7f-b878-87be1098bbd6"
      },
      "execution_count": 1,
      "outputs": [
        {
          "output_type": "stream",
          "name": "stdout",
          "text": [
            " * Serving Flask app '__main__'\n",
            " * Debug mode: off\n"
          ]
        },
        {
          "output_type": "stream",
          "name": "stderr",
          "text": [
            "INFO:werkzeug:\u001b[31m\u001b[1mWARNING: This is a development server. Do not use it in a production deployment. Use a production WSGI server instead.\u001b[0m\n",
            " * Running on http://127.0.0.1:5000\n",
            "INFO:werkzeug:\u001b[33mPress CTRL+C to quit\u001b[0m\n"
          ]
        }
      ]
    },
    {
      "cell_type": "markdown",
      "source": [
        "6.  What are HTTP methods used in RESTful APIs ?\n",
        "\n",
        "- GET – retrieve data\n",
        "\n",
        "- POST – create data\n",
        "\n",
        "- PUT – update data\n",
        "\n",
        "- PATCH – partially update\n",
        "\n",
        "- DELETE – delete data\n",
        "\n",
        "7. What is the purpose of the @app.route() decorator in Flask ?\n",
        "\n",
        "- It defines the URL path and the function that should handle requests to that path.\n",
        "\n",
        "8.  What is the difference between GET and POST HTTP methods ?\n",
        "\n",
        "- GET is used to retrieve data and is idempotent.\n",
        "\n",
        "- POST is used to submit data and create resources, often causing a change on the server.\n",
        "\n",
        "9.  How do you handle errors in Flask APIs ?"
      ],
      "metadata": {
        "id": "GaWzN0wSETfV"
      }
    },
    {
      "cell_type": "code",
      "source": [
        "@app.errorhandler(404)\n",
        "def not_found(error):\n",
        "    return jsonify({'error': 'Not found'}), 404\n"
      ],
      "metadata": {
        "id": "30qT2PvwFWtu"
      },
      "execution_count": 2,
      "outputs": []
    },
    {
      "cell_type": "markdown",
      "source": [
        "10.  How do you connect Flask to a SQL database ?"
      ],
      "metadata": {
        "id": "HcvSDYkTFa8i"
      }
    },
    {
      "cell_type": "code",
      "source": [
        "\"\"\"\n",
        "app.config['SQLALCHEMY_DATABASE_URI'] = 'sqlite:///example.db'\n",
        "db = SQLAlchemy(app)\n",
        "\"\"\""
      ],
      "metadata": {
        "colab": {
          "base_uri": "https://localhost:8080/",
          "height": 36
        },
        "id": "tPcnpMsDFk4t",
        "outputId": "090dda35-e27a-4af9-bcf1-af90912c777d"
      },
      "execution_count": 5,
      "outputs": [
        {
          "output_type": "execute_result",
          "data": {
            "text/plain": [
              "\"\\napp.config['SQLALCHEMY_DATABASE_URI'] = 'sqlite:///example.db'\\ndb = SQLAlchemy(app)\\n\""
            ],
            "application/vnd.google.colaboratory.intrinsic+json": {
              "type": "string"
            }
          },
          "metadata": {},
          "execution_count": 5
        }
      ]
    },
    {
      "cell_type": "markdown",
      "source": [
        "11.  What is the role of Flask-SQLAlchemy ?\n",
        "\n",
        "- It is an ORM (Object Relational Mapper) that integrates SQLAlchemy with Flask, simplifying database operations.\n",
        "\n",
        "12. What are Flask blueprints, and how are they useful ?\n",
        "\n",
        "- Blueprints allow you to organize a Flask app into modular components, useful for larger applications.\n",
        "\n",
        "13.  What is the purpose of Flask's request object ?\n",
        "\n",
        "- request provides access to incoming request data like form inputs, JSON payloads, headers, and more.\n",
        "\n",
        "14.  How do you create a RESTful API endpoint using Flask ?"
      ],
      "metadata": {
        "id": "MyvKfLKlF9zQ"
      }
    },
    {
      "cell_type": "code",
      "source": [
        "@app.route('/api/items', methods=['GET'])\n",
        "def get_items():\n",
        "    return jsonify({'items': ['item1', 'item2']})\n"
      ],
      "metadata": {
        "id": "BZ5dJ86UGliN"
      },
      "execution_count": 6,
      "outputs": []
    },
    {
      "cell_type": "markdown",
      "source": [
        "15. What is the purpose of Flask's jsonify() function ?\n",
        "\n",
        "- It converts Python dictionaries/lists into JSON responses with the correct application/json MIME type.\n",
        "\n",
        "16.  Explain Flask’s url_for() function.\n",
        "\n",
        "- url_for('function_name') dynamically builds a URL to a view function, helping avoid hardcoded URLs.\n",
        "\n",
        "17.  How does Flask handle static files (CSS, JavaScript, etc.) ?\n",
        "\n",
        "- Flask automatically serves files in the /static folder. Use url_for('static', filename='style.css').\n",
        "\n",
        "18. What is an API specification, and how does it help in building a Flask API ?\n",
        "\n",
        "- It defines expected inputs, outputs, and behavior of the API, guiding development and ensuring consistency. Tools like Swagger can generate docs from it.\n",
        "\n",
        "19.  What are HTTP status codes, and why are they important in a Flask API ?\n",
        "\n",
        "- They inform clients about the result of their request (e.g., 200 OK, 404 Not Found, 400 Bad Request). They are crucial for debugging and proper API usage.\n",
        "\n",
        "20.  How do you handle POST requests in Flask ?"
      ],
      "metadata": {
        "id": "jem27oT-GsQc"
      }
    },
    {
      "cell_type": "code",
      "source": [
        "@app.route('/submit', methods=['POST'])\n",
        "def submit():\n",
        "    data = request.get_json()\n",
        "    return jsonify({'received': data}), 201\n"
      ],
      "metadata": {
        "id": "Ckp3AsllIHKa"
      },
      "execution_count": 7,
      "outputs": []
    },
    {
      "cell_type": "markdown",
      "source": [
        "21.  How would you secure a Flask API ?\n",
        "\n",
        "- Use HTTPS\n",
        "\n",
        "- Implement authentication (JWT, OAuth, API keys)\n",
        "\n",
        "- Validate input\n",
        "\n",
        "- Use rate limiting\n",
        "\n",
        "- Sanitize data to prevent injection attacks\n",
        "\n",
        "22. What is the significance of the Flask-RESTful extension ?\n",
        "\n",
        "- It adds support for quickly building REST APIs with Flask by providing resource classes and request parsing tools.\n",
        "\n",
        "23.  What is the role of Flask’s session object ?\n",
        "\n",
        "- session stores data across requests for a user, such as login status, using secure cookies.\n",
        "\n",
        "\n",
        "# Practical"
      ],
      "metadata": {
        "id": "qOjAq1xqIJZL"
      }
    },
    {
      "cell_type": "code",
      "source": [
        "# 1. How do you create a basic Flask application ?\n",
        "\n",
        "from flask import Flask\n",
        "\n",
        "app = Flask(__name__)\n",
        "\n",
        "@app.route('/')\n",
        "def home():\n",
        "    return \"Hello, Flask!\"\n",
        "\n",
        "if __name__ == '__main__':\n",
        "    app.run(debug=True)\n"
      ],
      "metadata": {
        "colab": {
          "base_uri": "https://localhost:8080/"
        },
        "id": "GysBxo7zJFle",
        "outputId": "76f7a5cc-2572-4f21-9a78-0e98fd956c8b"
      },
      "execution_count": 8,
      "outputs": [
        {
          "output_type": "stream",
          "name": "stdout",
          "text": [
            " * Serving Flask app '__main__'\n",
            " * Debug mode: on\n"
          ]
        },
        {
          "output_type": "stream",
          "name": "stderr",
          "text": [
            "INFO:werkzeug:\u001b[31m\u001b[1mWARNING: This is a development server. Do not use it in a production deployment. Use a production WSGI server instead.\u001b[0m\n",
            " * Running on http://127.0.0.1:5000\n",
            "INFO:werkzeug:\u001b[33mPress CTRL+C to quit\u001b[0m\n",
            "INFO:werkzeug: * Restarting with stat\n"
          ]
        }
      ]
    },
    {
      "cell_type": "code",
      "source": [
        "# 2.  How do you serve static files like images or CSS in Flask ?\n",
        "# Place static files in the static/ directory. Access them via /static/filename.ext.\n",
        "\"\"\"\n",
        "<link rel=\"stylesheet\" href=\"{{ url_for('static', filename='style.css') }}\">\n",
        "\"\"\""
      ],
      "metadata": {
        "colab": {
          "base_uri": "https://localhost:8080/",
          "height": 36
        },
        "id": "EoZnpPyfJeol",
        "outputId": "78e7bced-04fb-4c47-b2bc-fc839443cab9"
      },
      "execution_count": 10,
      "outputs": [
        {
          "output_type": "execute_result",
          "data": {
            "text/plain": [
              "'\\n<link rel=\"stylesheet\" href=\"{{ url_for(\\'static\\', filename=\\'style.css\\') }}\">\\n'"
            ],
            "application/vnd.google.colaboratory.intrinsic+json": {
              "type": "string"
            }
          },
          "metadata": {},
          "execution_count": 10
        }
      ]
    },
    {
      "cell_type": "code",
      "source": [
        "# 3.  How do you define different routes with different HTTP methods in Flask ?\n",
        "\n",
        "@app.route('/submit', methods=['GET', 'POST'])\n",
        "def submit():\n",
        "    if request.method == 'POST':\n",
        "        return \"Form submitted\"\n",
        "    return \"Submit form\"\n"
      ],
      "metadata": {
        "id": "NqW-ocUHJ2VM"
      },
      "execution_count": 11,
      "outputs": []
    },
    {
      "cell_type": "code",
      "source": [
        "# 4. How do you render HTML templates in Flask ?\n",
        "\"\"\"\n",
        "from flask import render_template\n",
        "\n",
        "@app.route('/')\n",
        "def home():\n",
        "    return render_template('index.html')\n",
        "\"\"\""
      ],
      "metadata": {
        "colab": {
          "base_uri": "https://localhost:8080/",
          "height": 36
        },
        "id": "oNtn_UXmKEBP",
        "outputId": "8cb8d95b-79ff-4321-d935-0c993fbf0ba6"
      },
      "execution_count": 13,
      "outputs": [
        {
          "output_type": "execute_result",
          "data": {
            "text/plain": [
              "\"\\nfrom flask import render_template\\n\\n@app.route('/')\\ndef home():\\n    return render_template('index.html')\\n\""
            ],
            "application/vnd.google.colaboratory.intrinsic+json": {
              "type": "string"
            }
          },
          "metadata": {},
          "execution_count": 13
        }
      ]
    },
    {
      "cell_type": "code",
      "source": [
        " # 5. How can you generate URLs for routes in Flask using url_for ?\n",
        "\"\"\"\n",
        "@app.route('/user/<username>')\n",
        "def profile(username):\n",
        "    return f\"User: {username}\"\n",
        "\n",
        "# elsewhere in code or template:\n",
        "url_for('profile', username='john')\n",
        "\"\"\"\n"
      ],
      "metadata": {
        "colab": {
          "base_uri": "https://localhost:8080/",
          "height": 36
        },
        "id": "1XFuHGjKKb_J",
        "outputId": "aa4ef1da-a7a5-4db1-d5cf-db0cef95c797"
      },
      "execution_count": 16,
      "outputs": [
        {
          "output_type": "execute_result",
          "data": {
            "text/plain": [
              "'\\n@app.route(\\'/user/<username>\\')\\ndef profile(username):\\n   return f\"User: {username}\"\\n\\n# elsewhere in code or template:\\nurl_for(\\'profile\\', username=\\'john\\')\\n'"
            ],
            "application/vnd.google.colaboratory.intrinsic+json": {
              "type": "string"
            }
          },
          "metadata": {},
          "execution_count": 16
        }
      ]
    },
    {
      "cell_type": "code",
      "source": [
        "# 6. How do you handle forms in Flask ?\n",
        "\n",
        "from flask import request\n",
        "\n",
        "@app.route('/form', methods=['GET', 'POST'])\n",
        "def form():\n",
        "    if request.method == 'POST':\n",
        "        name = request.form['name']\n",
        "        return f\"Hello, {name}\"\n",
        "    return render_template('form.html')\n"
      ],
      "metadata": {
        "id": "UWo4xbMxLGk7"
      },
      "execution_count": 17,
      "outputs": []
    },
    {
      "cell_type": "code",
      "source": [
        "# 7.  How can you validate form data in Flask ?\n",
        "\"\"\"\n",
        "from flask_wtf import FlaskForm\n",
        "from wtforms import StringField\n",
        "from wtforms.validators import DataRequired\n",
        "\n",
        "class NameForm(FlaskForm):\n",
        "    name = StringField('Name', validators=[DataRequired()])\n",
        "\"\"\"\n"
      ],
      "metadata": {
        "colab": {
          "base_uri": "https://localhost:8080/",
          "height": 53
        },
        "id": "NyZj5A29LYQ-",
        "outputId": "7b8243d3-9e2e-4fb9-f734-4604d4379992"
      },
      "execution_count": 20,
      "outputs": [
        {
          "output_type": "execute_result",
          "data": {
            "text/plain": [
              "\"\\nfrom flask_wtf import FlaskForm\\nfrom wtforms import StringField\\nfrom wtforms.validators import DataRequired\\n\\nclass NameForm(FlaskForm):\\n    name = StringField('Name', validators=[DataRequired()])\\n\""
            ],
            "application/vnd.google.colaboratory.intrinsic+json": {
              "type": "string"
            }
          },
          "metadata": {},
          "execution_count": 20
        }
      ]
    },
    {
      "cell_type": "code",
      "source": [
        " # 8. How do you manage sessions in Flask ?\n",
        "\n",
        "from flask import session\n",
        "\n",
        "app.secret_key = 'your_secret_key'\n",
        "\n",
        "@app.route('/login')\n",
        "def login():\n",
        "    session['user'] = 'john'\n",
        "    return 'Logged in'\n",
        "\n",
        "@app.route('/logout')\n",
        "def logout():\n",
        "    session.pop('user', None)\n",
        "    return 'Logged out'\n",
        "\n"
      ],
      "metadata": {
        "id": "kE9yjR1SLy7L"
      },
      "execution_count": 22,
      "outputs": []
    },
    {
      "cell_type": "code",
      "source": [
        "# 9. How do you redirect to a different route in Flask ?\n",
        "\n",
        "from flask import redirect, url_for\n",
        "\n",
        "@app.route('/go-to-home')\n",
        "def go_home():\n",
        "    return redirect(url_for('home'))\n",
        "\n"
      ],
      "metadata": {
        "id": "vkpKJr7UMF2Z"
      },
      "execution_count": 24,
      "outputs": []
    },
    {
      "cell_type": "code",
      "source": [
        " # 10 . How do you handle errors in Flask (e.g., 404) ?\n",
        "\n",
        " from flask import Blueprint\n",
        "\n",
        "user_bp = Blueprint('user', __name__)\n",
        "\n",
        "@user_bp.route('/profile')\n",
        "def profile():\n",
        "    return \"User Profile\"\n"
      ],
      "metadata": {
        "id": "qZMux4akMbNj"
      },
      "execution_count": 25,
      "outputs": []
    },
    {
      "cell_type": "code",
      "source": [
        "# 11. How do you structure a Flask app using Blueprints ?\n",
        "\n",
        "from flask import Blueprint\n",
        "\n",
        "user_bp = Blueprint('user', __name__)\n",
        "\n",
        "@user_bp.route('/profile')\n",
        "def profile():\n",
        "    return \"User Profile\"\n"
      ],
      "metadata": {
        "id": "ckJTRlMnMnim"
      },
      "execution_count": 26,
      "outputs": []
    },
    {
      "cell_type": "code",
      "source": [
        "# 12. How do you define a custom Jinja filter in Flask ?\n",
        "\n",
        "@app.template_filter('reverse')\n",
        "def reverse_filter(s):\n",
        "    return s[::-1]\n",
        "\n",
        "# In template: {{ 'hello'|reverse }}\n",
        "\n"
      ],
      "metadata": {
        "id": "H7NrGMRVM0zk"
      },
      "execution_count": 28,
      "outputs": []
    },
    {
      "cell_type": "code",
      "source": [
        " # 13.  How can you redirect with query parameters in Flask ?\n",
        "\"\"\"\n",
        " return redirect(url_for('search', q='flask'))\n",
        "\n",
        "\"\"\""
      ],
      "metadata": {
        "colab": {
          "base_uri": "https://localhost:8080/",
          "height": 36
        },
        "id": "C6rIIkEJNIK-",
        "outputId": "345b1b97-c740-4b25-b758-1d977d81ad8b"
      },
      "execution_count": 30,
      "outputs": [
        {
          "output_type": "execute_result",
          "data": {
            "text/plain": [
              "\"\\nreturn redirect(url_for('search', q='flask'))\\n\\n\""
            ],
            "application/vnd.google.colaboratory.intrinsic+json": {
              "type": "string"
            }
          },
          "metadata": {},
          "execution_count": 30
        }
      ]
    },
    {
      "cell_type": "code",
      "source": [
        " # 14.  How do you return JSON responses in Flask ?\n",
        "\n",
        " from flask import jsonify\n",
        "\n",
        "return jsonify({\"name\": \"John\", \"age\": 30})\n"
      ],
      "metadata": {
        "id": "4HGeD-0SQ3eB"
      },
      "execution_count": null,
      "outputs": []
    },
    {
      "cell_type": "code",
      "source": [
        "# 15.  How do you capture URL parameters in Flask?\n",
        "\n",
        "@app.route('/user/<username>')\n",
        "def user_profile(username):\n",
        "    return f\"User: {username}\"\n"
      ],
      "metadata": {
        "id": "W_6WhlZ-RAVa"
      },
      "execution_count": null,
      "outputs": []
    }
  ]
}